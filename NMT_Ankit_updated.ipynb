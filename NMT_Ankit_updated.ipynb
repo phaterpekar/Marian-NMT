{
  "nbformat": 4,
  "nbformat_minor": 0,
  "metadata": {
    "colab": {
      "name": "NMT_Ankit.ipynb",
      "provenance": [],
      "collapsed_sections": []
    },
    "kernelspec": {
      "name": "python3",
      "display_name": "Python 3"
    },
    "accelerator": "GPU",
    "widgets": {
      "application/vnd.jupyter.widget-state+json": {
        "0e103fc144614d60a4177d0eb2ff151a": {
          "model_module": "@jupyter-widgets/controls",
          "model_name": "HBoxModel",
          "state": {
            "_view_name": "HBoxView",
            "_dom_classes": [],
            "_model_name": "HBoxModel",
            "_view_module": "@jupyter-widgets/controls",
            "_model_module_version": "1.5.0",
            "_view_count": null,
            "_view_module_version": "1.5.0",
            "box_style": "",
            "layout": "IPY_MODEL_f9ed7be6798847388104d23a46776999",
            "_model_module": "@jupyter-widgets/controls",
            "children": [
              "IPY_MODEL_417e9b3e1fc44f959920b548c4b1fde9",
              "IPY_MODEL_88c819f4ac594175987018afcf7973c1"
            ]
          }
        },
        "f9ed7be6798847388104d23a46776999": {
          "model_module": "@jupyter-widgets/base",
          "model_name": "LayoutModel",
          "state": {
            "_view_name": "LayoutView",
            "grid_template_rows": null,
            "right": null,
            "justify_content": null,
            "_view_module": "@jupyter-widgets/base",
            "overflow": null,
            "_model_module_version": "1.2.0",
            "_view_count": null,
            "flex_flow": null,
            "width": null,
            "min_width": null,
            "border": null,
            "align_items": null,
            "bottom": null,
            "_model_module": "@jupyter-widgets/base",
            "top": null,
            "grid_column": null,
            "overflow_y": null,
            "overflow_x": null,
            "grid_auto_flow": null,
            "grid_area": null,
            "grid_template_columns": null,
            "flex": null,
            "_model_name": "LayoutModel",
            "justify_items": null,
            "grid_row": null,
            "max_height": null,
            "align_content": null,
            "visibility": null,
            "align_self": null,
            "height": null,
            "min_height": null,
            "padding": null,
            "grid_auto_rows": null,
            "grid_gap": null,
            "max_width": null,
            "order": null,
            "_view_module_version": "1.2.0",
            "grid_template_areas": null,
            "object_position": null,
            "object_fit": null,
            "grid_auto_columns": null,
            "margin": null,
            "display": null,
            "left": null
          }
        },
        "417e9b3e1fc44f959920b548c4b1fde9": {
          "model_module": "@jupyter-widgets/controls",
          "model_name": "FloatProgressModel",
          "state": {
            "_view_name": "ProgressView",
            "style": "IPY_MODEL_96754ddec7e745759e6e593bdc87d160",
            "_dom_classes": [],
            "description": "Downloading: 100%",
            "_model_name": "FloatProgressModel",
            "bar_style": "success",
            "max": 1133,
            "_view_module": "@jupyter-widgets/controls",
            "_model_module_version": "1.5.0",
            "value": 1133,
            "_view_count": null,
            "_view_module_version": "1.5.0",
            "orientation": "horizontal",
            "min": 0,
            "description_tooltip": null,
            "_model_module": "@jupyter-widgets/controls",
            "layout": "IPY_MODEL_d6de787f3f5744be9be8ff8afc1a9f52"
          }
        },
        "88c819f4ac594175987018afcf7973c1": {
          "model_module": "@jupyter-widgets/controls",
          "model_name": "HTMLModel",
          "state": {
            "_view_name": "HTMLView",
            "style": "IPY_MODEL_a5f9934f362248e3a808706cb2c99c43",
            "_dom_classes": [],
            "description": "",
            "_model_name": "HTMLModel",
            "placeholder": "​",
            "_view_module": "@jupyter-widgets/controls",
            "_model_module_version": "1.5.0",
            "value": " 1.13k/1.13k [00:00&lt;00:00, 3.38kB/s]",
            "_view_count": null,
            "_view_module_version": "1.5.0",
            "description_tooltip": null,
            "_model_module": "@jupyter-widgets/controls",
            "layout": "IPY_MODEL_31ffb2bc85d041a29266f31d64b71ade"
          }
        },
        "96754ddec7e745759e6e593bdc87d160": {
          "model_module": "@jupyter-widgets/controls",
          "model_name": "ProgressStyleModel",
          "state": {
            "_view_name": "StyleView",
            "_model_name": "ProgressStyleModel",
            "description_width": "initial",
            "_view_module": "@jupyter-widgets/base",
            "_model_module_version": "1.5.0",
            "_view_count": null,
            "_view_module_version": "1.2.0",
            "bar_color": null,
            "_model_module": "@jupyter-widgets/controls"
          }
        },
        "d6de787f3f5744be9be8ff8afc1a9f52": {
          "model_module": "@jupyter-widgets/base",
          "model_name": "LayoutModel",
          "state": {
            "_view_name": "LayoutView",
            "grid_template_rows": null,
            "right": null,
            "justify_content": null,
            "_view_module": "@jupyter-widgets/base",
            "overflow": null,
            "_model_module_version": "1.2.0",
            "_view_count": null,
            "flex_flow": null,
            "width": null,
            "min_width": null,
            "border": null,
            "align_items": null,
            "bottom": null,
            "_model_module": "@jupyter-widgets/base",
            "top": null,
            "grid_column": null,
            "overflow_y": null,
            "overflow_x": null,
            "grid_auto_flow": null,
            "grid_area": null,
            "grid_template_columns": null,
            "flex": null,
            "_model_name": "LayoutModel",
            "justify_items": null,
            "grid_row": null,
            "max_height": null,
            "align_content": null,
            "visibility": null,
            "align_self": null,
            "height": null,
            "min_height": null,
            "padding": null,
            "grid_auto_rows": null,
            "grid_gap": null,
            "max_width": null,
            "order": null,
            "_view_module_version": "1.2.0",
            "grid_template_areas": null,
            "object_position": null,
            "object_fit": null,
            "grid_auto_columns": null,
            "margin": null,
            "display": null,
            "left": null
          }
        },
        "a5f9934f362248e3a808706cb2c99c43": {
          "model_module": "@jupyter-widgets/controls",
          "model_name": "DescriptionStyleModel",
          "state": {
            "_view_name": "StyleView",
            "_model_name": "DescriptionStyleModel",
            "description_width": "",
            "_view_module": "@jupyter-widgets/base",
            "_model_module_version": "1.5.0",
            "_view_count": null,
            "_view_module_version": "1.2.0",
            "_model_module": "@jupyter-widgets/controls"
          }
        },
        "31ffb2bc85d041a29266f31d64b71ade": {
          "model_module": "@jupyter-widgets/base",
          "model_name": "LayoutModel",
          "state": {
            "_view_name": "LayoutView",
            "grid_template_rows": null,
            "right": null,
            "justify_content": null,
            "_view_module": "@jupyter-widgets/base",
            "overflow": null,
            "_model_module_version": "1.2.0",
            "_view_count": null,
            "flex_flow": null,
            "width": null,
            "min_width": null,
            "border": null,
            "align_items": null,
            "bottom": null,
            "_model_module": "@jupyter-widgets/base",
            "top": null,
            "grid_column": null,
            "overflow_y": null,
            "overflow_x": null,
            "grid_auto_flow": null,
            "grid_area": null,
            "grid_template_columns": null,
            "flex": null,
            "_model_name": "LayoutModel",
            "justify_items": null,
            "grid_row": null,
            "max_height": null,
            "align_content": null,
            "visibility": null,
            "align_self": null,
            "height": null,
            "min_height": null,
            "padding": null,
            "grid_auto_rows": null,
            "grid_gap": null,
            "max_width": null,
            "order": null,
            "_view_module_version": "1.2.0",
            "grid_template_areas": null,
            "object_position": null,
            "object_fit": null,
            "grid_auto_columns": null,
            "margin": null,
            "display": null,
            "left": null
          }
        },
        "7cf24ae54e224058a02de4cd4193214d": {
          "model_module": "@jupyter-widgets/controls",
          "model_name": "HBoxModel",
          "state": {
            "_view_name": "HBoxView",
            "_dom_classes": [],
            "_model_name": "HBoxModel",
            "_view_module": "@jupyter-widgets/controls",
            "_model_module_version": "1.5.0",
            "_view_count": null,
            "_view_module_version": "1.5.0",
            "box_style": "",
            "layout": "IPY_MODEL_83d607db0b3e4c05a5661dc0b7376bbd",
            "_model_module": "@jupyter-widgets/controls",
            "children": [
              "IPY_MODEL_54d60fa23c8d4913a7df722edfb79e8d",
              "IPY_MODEL_1e0b65a63f664702bc6d3f91fc9df32b"
            ]
          }
        },
        "83d607db0b3e4c05a5661dc0b7376bbd": {
          "model_module": "@jupyter-widgets/base",
          "model_name": "LayoutModel",
          "state": {
            "_view_name": "LayoutView",
            "grid_template_rows": null,
            "right": null,
            "justify_content": null,
            "_view_module": "@jupyter-widgets/base",
            "overflow": null,
            "_model_module_version": "1.2.0",
            "_view_count": null,
            "flex_flow": null,
            "width": null,
            "min_width": null,
            "border": null,
            "align_items": null,
            "bottom": null,
            "_model_module": "@jupyter-widgets/base",
            "top": null,
            "grid_column": null,
            "overflow_y": null,
            "overflow_x": null,
            "grid_auto_flow": null,
            "grid_area": null,
            "grid_template_columns": null,
            "flex": null,
            "_model_name": "LayoutModel",
            "justify_items": null,
            "grid_row": null,
            "max_height": null,
            "align_content": null,
            "visibility": null,
            "align_self": null,
            "height": null,
            "min_height": null,
            "padding": null,
            "grid_auto_rows": null,
            "grid_gap": null,
            "max_width": null,
            "order": null,
            "_view_module_version": "1.2.0",
            "grid_template_areas": null,
            "object_position": null,
            "object_fit": null,
            "grid_auto_columns": null,
            "margin": null,
            "display": null,
            "left": null
          }
        },
        "54d60fa23c8d4913a7df722edfb79e8d": {
          "model_module": "@jupyter-widgets/controls",
          "model_name": "FloatProgressModel",
          "state": {
            "_view_name": "ProgressView",
            "style": "IPY_MODEL_a8b8851fbaa849d98ad0ca0e902b1f47",
            "_dom_classes": [],
            "description": "Downloading: 100%",
            "_model_name": "FloatProgressModel",
            "bar_style": "success",
            "max": 300827685,
            "_view_module": "@jupyter-widgets/controls",
            "_model_module_version": "1.5.0",
            "value": 300827685,
            "_view_count": null,
            "_view_module_version": "1.5.0",
            "orientation": "horizontal",
            "min": 0,
            "description_tooltip": null,
            "_model_module": "@jupyter-widgets/controls",
            "layout": "IPY_MODEL_56fe1679045b4f01a57a90c61f9d1a11"
          }
        },
        "1e0b65a63f664702bc6d3f91fc9df32b": {
          "model_module": "@jupyter-widgets/controls",
          "model_name": "HTMLModel",
          "state": {
            "_view_name": "HTMLView",
            "style": "IPY_MODEL_2ff4f59b1c334462916f7e985baeffa2",
            "_dom_classes": [],
            "description": "",
            "_model_name": "HTMLModel",
            "placeholder": "​",
            "_view_module": "@jupyter-widgets/controls",
            "_model_module_version": "1.5.0",
            "value": " 301M/301M [00:06&lt;00:00, 43.2MB/s]",
            "_view_count": null,
            "_view_module_version": "1.5.0",
            "description_tooltip": null,
            "_model_module": "@jupyter-widgets/controls",
            "layout": "IPY_MODEL_f4423dee83fa4009a733cea6af07a101"
          }
        },
        "a8b8851fbaa849d98ad0ca0e902b1f47": {
          "model_module": "@jupyter-widgets/controls",
          "model_name": "ProgressStyleModel",
          "state": {
            "_view_name": "StyleView",
            "_model_name": "ProgressStyleModel",
            "description_width": "initial",
            "_view_module": "@jupyter-widgets/base",
            "_model_module_version": "1.5.0",
            "_view_count": null,
            "_view_module_version": "1.2.0",
            "bar_color": null,
            "_model_module": "@jupyter-widgets/controls"
          }
        },
        "56fe1679045b4f01a57a90c61f9d1a11": {
          "model_module": "@jupyter-widgets/base",
          "model_name": "LayoutModel",
          "state": {
            "_view_name": "LayoutView",
            "grid_template_rows": null,
            "right": null,
            "justify_content": null,
            "_view_module": "@jupyter-widgets/base",
            "overflow": null,
            "_model_module_version": "1.2.0",
            "_view_count": null,
            "flex_flow": null,
            "width": null,
            "min_width": null,
            "border": null,
            "align_items": null,
            "bottom": null,
            "_model_module": "@jupyter-widgets/base",
            "top": null,
            "grid_column": null,
            "overflow_y": null,
            "overflow_x": null,
            "grid_auto_flow": null,
            "grid_area": null,
            "grid_template_columns": null,
            "flex": null,
            "_model_name": "LayoutModel",
            "justify_items": null,
            "grid_row": null,
            "max_height": null,
            "align_content": null,
            "visibility": null,
            "align_self": null,
            "height": null,
            "min_height": null,
            "padding": null,
            "grid_auto_rows": null,
            "grid_gap": null,
            "max_width": null,
            "order": null,
            "_view_module_version": "1.2.0",
            "grid_template_areas": null,
            "object_position": null,
            "object_fit": null,
            "grid_auto_columns": null,
            "margin": null,
            "display": null,
            "left": null
          }
        },
        "2ff4f59b1c334462916f7e985baeffa2": {
          "model_module": "@jupyter-widgets/controls",
          "model_name": "DescriptionStyleModel",
          "state": {
            "_view_name": "StyleView",
            "_model_name": "DescriptionStyleModel",
            "description_width": "",
            "_view_module": "@jupyter-widgets/base",
            "_model_module_version": "1.5.0",
            "_view_count": null,
            "_view_module_version": "1.2.0",
            "_model_module": "@jupyter-widgets/controls"
          }
        },
        "f4423dee83fa4009a733cea6af07a101": {
          "model_module": "@jupyter-widgets/base",
          "model_name": "LayoutModel",
          "state": {
            "_view_name": "LayoutView",
            "grid_template_rows": null,
            "right": null,
            "justify_content": null,
            "_view_module": "@jupyter-widgets/base",
            "overflow": null,
            "_model_module_version": "1.2.0",
            "_view_count": null,
            "flex_flow": null,
            "width": null,
            "min_width": null,
            "border": null,
            "align_items": null,
            "bottom": null,
            "_model_module": "@jupyter-widgets/base",
            "top": null,
            "grid_column": null,
            "overflow_y": null,
            "overflow_x": null,
            "grid_auto_flow": null,
            "grid_area": null,
            "grid_template_columns": null,
            "flex": null,
            "_model_name": "LayoutModel",
            "justify_items": null,
            "grid_row": null,
            "max_height": null,
            "align_content": null,
            "visibility": null,
            "align_self": null,
            "height": null,
            "min_height": null,
            "padding": null,
            "grid_auto_rows": null,
            "grid_gap": null,
            "max_width": null,
            "order": null,
            "_view_module_version": "1.2.0",
            "grid_template_areas": null,
            "object_position": null,
            "object_fit": null,
            "grid_auto_columns": null,
            "margin": null,
            "display": null,
            "left": null
          }
        }
      }
    }
  },
  "cells": [
    {
      "cell_type": "code",
      "metadata": {
        "id": "XZTpFzV4naag",
        "outputId": "0183aef3-4489-471c-c1d4-45507cd10254",
        "colab": {
          "base_uri": "https://localhost:8080/",
          "height": 374
        }
      },
      "source": [
        "!pip install transformers"
      ],
      "execution_count": null,
      "outputs": [
        {
          "output_type": "stream",
          "text": [
            "Requirement already satisfied: transformers in /usr/local/lib/python3.6/dist-packages (3.4.0)\n",
            "Requirement already satisfied: dataclasses; python_version < \"3.7\" in /usr/local/lib/python3.6/dist-packages (from transformers) (0.7)\n",
            "Requirement already satisfied: sacremoses in /usr/local/lib/python3.6/dist-packages (from transformers) (0.0.43)\n",
            "Requirement already satisfied: filelock in /usr/local/lib/python3.6/dist-packages (from transformers) (3.0.12)\n",
            "Requirement already satisfied: tokenizers==0.9.2 in /usr/local/lib/python3.6/dist-packages (from transformers) (0.9.2)\n",
            "Requirement already satisfied: requests in /usr/local/lib/python3.6/dist-packages (from transformers) (2.23.0)\n",
            "Requirement already satisfied: protobuf in /usr/local/lib/python3.6/dist-packages (from transformers) (3.12.4)\n",
            "Requirement already satisfied: packaging in /usr/local/lib/python3.6/dist-packages (from transformers) (20.4)\n",
            "Requirement already satisfied: tqdm>=4.27 in /usr/local/lib/python3.6/dist-packages (from transformers) (4.41.1)\n",
            "Requirement already satisfied: numpy in /usr/local/lib/python3.6/dist-packages (from transformers) (1.18.5)\n",
            "Requirement already satisfied: regex!=2019.12.17 in /usr/local/lib/python3.6/dist-packages (from transformers) (2019.12.20)\n",
            "Requirement already satisfied: sentencepiece!=0.1.92 in /usr/local/lib/python3.6/dist-packages (from transformers) (0.1.91)\n",
            "Requirement already satisfied: six in /usr/local/lib/python3.6/dist-packages (from sacremoses->transformers) (1.15.0)\n",
            "Requirement already satisfied: click in /usr/local/lib/python3.6/dist-packages (from sacremoses->transformers) (7.1.2)\n",
            "Requirement already satisfied: joblib in /usr/local/lib/python3.6/dist-packages (from sacremoses->transformers) (0.16.0)\n",
            "Requirement already satisfied: chardet<4,>=3.0.2 in /usr/local/lib/python3.6/dist-packages (from requests->transformers) (3.0.4)\n",
            "Requirement already satisfied: urllib3!=1.25.0,!=1.25.1,<1.26,>=1.21.1 in /usr/local/lib/python3.6/dist-packages (from requests->transformers) (1.24.3)\n",
            "Requirement already satisfied: idna<3,>=2.5 in /usr/local/lib/python3.6/dist-packages (from requests->transformers) (2.10)\n",
            "Requirement already satisfied: certifi>=2017.4.17 in /usr/local/lib/python3.6/dist-packages (from requests->transformers) (2020.6.20)\n",
            "Requirement already satisfied: setuptools in /usr/local/lib/python3.6/dist-packages (from protobuf->transformers) (50.3.0)\n",
            "Requirement already satisfied: pyparsing>=2.0.2 in /usr/local/lib/python3.6/dist-packages (from packaging->transformers) (2.4.7)\n"
          ],
          "name": "stdout"
        }
      ]
    },
    {
      "cell_type": "code",
      "metadata": {
        "id": "f1OLAYa4Y9vd"
      },
      "source": [
        "from transformers import MarianMTModel, MarianTokenizer\n",
        "import pprint\n",
        "from tensorflow.python.client import device_lib\n",
        "from timeit import default_timer as timer\n",
        "\n",
        "\n"
      ],
      "execution_count": null,
      "outputs": []
    },
    {
      "cell_type": "markdown",
      "metadata": {
        "id": "65INJQaajGAu"
      },
      "source": [
        "## Usually we end up getting Tesla T4 GPU, lets check!!\n",
        "\n",
        "\n"
      ]
    },
    {
      "cell_type": "code",
      "metadata": {
        "id": "z8SK2T9UniFI",
        "outputId": "d6f841bb-3087-46c8-a518-b5fec8bc5155",
        "colab": {
          "base_uri": "https://localhost:8080/",
          "height": 476
        }
      },
      "source": [
        "device_lib.list_local_devices()"
      ],
      "execution_count": null,
      "outputs": [
        {
          "output_type": "execute_result",
          "data": {
            "text/plain": [
              "[name: \"/device:CPU:0\"\n",
              " device_type: \"CPU\"\n",
              " memory_limit: 268435456\n",
              " locality {\n",
              " }\n",
              " incarnation: 10546694543789035489, name: \"/device:XLA_CPU:0\"\n",
              " device_type: \"XLA_CPU\"\n",
              " memory_limit: 17179869184\n",
              " locality {\n",
              " }\n",
              " incarnation: 1995225381257423276\n",
              " physical_device_desc: \"device: XLA_CPU device\", name: \"/device:XLA_GPU:0\"\n",
              " device_type: \"XLA_GPU\"\n",
              " memory_limit: 17179869184\n",
              " locality {\n",
              " }\n",
              " incarnation: 8740204372685355620\n",
              " physical_device_desc: \"device: XLA_GPU device\", name: \"/device:GPU:0\"\n",
              " device_type: \"GPU\"\n",
              " memory_limit: 13868133248\n",
              " locality {\n",
              "   bus_id: 1\n",
              "   links {\n",
              "   }\n",
              " }\n",
              " incarnation: 15668703030819297063\n",
              " physical_device_desc: \"device: 0, name: Tesla T4, pci bus id: 0000:00:04.0, compute capability: 7.5\"]"
            ]
          },
          "metadata": {
            "tags": []
          },
          "execution_count": 35
        }
      ]
    },
    {
      "cell_type": "markdown",
      "metadata": {
        "id": "v0m94QotbELa"
      },
      "source": [
        "#Translating French, Spanish texts to English using multilingual model\n"
      ]
    },
    {
      "cell_type": "code",
      "metadata": {
        "id": "z3jieOxTniUF"
      },
      "source": [
        "# Samples used from elastic(newspaper.id)  - \"47096a803891d9cac2089503a91cb29c\", \"fdd25bff38ccca9d8628f2aedaeaa6b6\"\n",
        "\n",
        "# Translating French, Spanish texts to English using multilingual model in batch mode\n",
        "src_text = [\n",
        "            \">>en<< Violences post-électorales : une jeune fille tuée ce vendredi matin à Hamdallaye…\",\n",
        "            \">>en<< Avec 64 nouveaux cas de la Covid-19 et un décès enregistrés le 22 août 2020 en Côte d'Ivoire, le pays compte 17 374 cas confirmés dont 15 106 personnes guéries, 113 décès et 2 155 cas actifs, selon le ministère de la Santé et de l’hygiène publique. Ce samedi 22 août 2020, 64 nouveaux cas de la Covid-19 ont été enregistrés sur 1 101 échantillons prélevés soit 5,8 % de cas positifs, 286 guéris et un décès, notamment une patiente de 65 ans décédée dans un établissement sanitaire public, indique le bilan journalier du ministère de la Santé et de l'hygiène publique. « A la date du 22 août, la Côte d’Ivoire compte donc 17 374 cas confirmés dont 15 106 personnes guéries, 113 décès et 2 155 cas actifs », précise le texte du ministère de la Santé et de l’hygiène publique qui souligne que « le nombre total d’échantillons est de 119 166 ». La Côte d'Ivoire connaît, en ce mois d’août, une baisse significative du taux de positivité de la Covid-19 et une augmentation appréciable du nombre total de personnes déclarées guéries ainsi qu'un fléchissement du nombre cas actifs. Ces résultats sont, entre autre, consécutifs au reflet de la qualité de la prise en charge sanitaire, mais surtout dus aux campagnes de sensibilisation et aux mesures barrières édictées par le Conseil national de sécurité (CNS), présidé par le chef de l’Etat, Alassane Ouattara.\",\n",
        "            \">>en<< Los diversos grupos han invadido la mayor parte del país y se mantienen en una batalla constante por el control territorial. Ahora se ha dado a conocer que los narcotraficantes mexicanos habrían comenzado a establecer relación con los cárteles colombianos. Las organizaciones con mayor fuerza son el CJNG y el Cártel de Sinaloa, los cuales cuentan con una presencia más fuerte en territorio nacional. Por otro lado, la Fiscalía General de la República (FGR) tiene contemplados en México 9 cárteles y 36 células delictivas que operan en territorio mexicano. Siendo Colima, Baja California, Zacatecas, Quintana Roo, y Guanajuato, las entidades con alerta roja por los delitos del crimen organizado.\"\n",
        "]"
      ],
      "execution_count": null,
      "outputs": []
    },
    {
      "cell_type": "code",
      "metadata": {
        "id": "kBPEI7lun9Bi"
      },
      "source": [
        "model_name = 'Helsinki-NLP/opus-mt-ROMANCE-en' "
      ],
      "execution_count": null,
      "outputs": []
    },
    {
      "cell_type": "code",
      "metadata": {
        "id": "MXojt2DRn9EW"
      },
      "source": [
        "tokenizer = MarianTokenizer.from_pretrained(model_name)\n"
      ],
      "execution_count": null,
      "outputs": []
    },
    {
      "cell_type": "code",
      "metadata": {
        "id": "FM0tOrxgn9HL"
      },
      "source": [
        "model = MarianMTModel.from_pretrained(model_name)"
      ],
      "execution_count": null,
      "outputs": []
    },
    {
      "cell_type": "code",
      "metadata": {
        "id": "MW8R0Tnbn9J3",
        "outputId": "f68e5f53-3173-43e0-fa8f-f84cfcbd2860",
        "colab": {
          "base_uri": "https://localhost:8080/",
          "height": 34
        }
      },
      "source": [
        "start = timer()\n",
        "translated = model.generate(**tokenizer.prepare_seq2seq_batch(src_text))\n",
        "end = timer()\n",
        "print(\"Translation time in Seconds:\", end - start) \n",
        "\n",
        "\n"
      ],
      "execution_count": null,
      "outputs": [
        {
          "output_type": "stream",
          "text": [
            "Translation time in Seconds: 38.52209932400001\n"
          ],
          "name": "stdout"
        }
      ]
    },
    {
      "cell_type": "code",
      "metadata": {
        "id": "lBo9Cb4Tn9Mn",
        "outputId": "a3f64665-4455-4444-a8d4-d33d894a6228",
        "colab": {
          "base_uri": "https://localhost:8080/",
          "height": 408
        }
      },
      "source": [
        "pprint.pprint([tokenizer.decode(t, skip_special_tokens=True) for t in translated])"
      ],
      "execution_count": null,
      "outputs": [
        {
          "output_type": "stream",
          "text": [
            "['Post-election violence: a young girl killed this Friday morning in '\n",
            " 'Hamdallaye...',\n",
            " 'With 64 new cases of the Covid-19 and one death recorded on 22 August 2020 '\n",
            " \"in Côte d'Ivoire, the country has 17,374 confirmed cases, including 15,106 \"\n",
            " 'people who have been cured, 113 deaths and 2,155 active cases, according to '\n",
            " 'the Ministry of Health and Public Hygiene. On Saturday, 22 August 2020, 64 '\n",
            " 'new cases of the Covid-19 were recorded on 1,101 samples taken, representing '\n",
            " '5.8% of positive cases, 286 deaths and one death, including a 65-year-old '\n",
            " 'patient who died in a public health facility, indicating the daily balance '\n",
            " 'of the Ministry of Health and Public Hygiene. \" As of 22 August, Côte '\n",
            " \"d'Ivoire has 17,374 confirmed cases, of which 15,106 persons who have been \"\n",
            " 'cured, 113 deaths and 2,155 active cases\", the text of the Ministry of '\n",
            " 'Health and Public Hygiene states that \"the total number of samples is '\n",
            " '119,166\".',\n",
            " 'The various groups have invaded most of the country and are continuing in a '\n",
            " 'constant battle for territorial control. It has now been announced that '\n",
            " 'Mexican drug traffickers would have begun to establish a relationship with '\n",
            " 'Colombian cartels. The most powerful organizations are the CJNG and Sinaloa '\n",
            " 'cartel, which have a stronger presence in national territory. On the other '\n",
            " \"hand, the Attorney General's Office (FGR) has 9 cartels and 36 criminal \"\n",
            " 'cells operating in Mexican territory. Being Colima, Baja California, '\n",
            " 'Zacatecas, Quintana Roo, and Guanajuato, entities with red alert for the '\n",
            " 'crimes of organized crime.']\n"
          ],
          "name": "stdout"
        }
      ]
    },
    {
      "cell_type": "markdown",
      "metadata": {
        "id": "chvVXv3EbcAS"
      },
      "source": [
        "#Translating using language specfic model (results in better translations)"
      ]
    },
    {
      "cell_type": "markdown",
      "metadata": {
        "id": "2u__yVblcIwr"
      },
      "source": [
        "##French To English Only"
      ]
    },
    {
      "cell_type": "code",
      "metadata": {
        "id": "sLNC_hxP4gx9",
        "outputId": "517ddb09-ef54-482a-d030-833e41a7b746",
        "colab": {
          "base_uri": "https://localhost:8080/",
          "height": 115,
          "referenced_widgets": [
            "0e103fc144614d60a4177d0eb2ff151a",
            "f9ed7be6798847388104d23a46776999",
            "417e9b3e1fc44f959920b548c4b1fde9",
            "88c819f4ac594175987018afcf7973c1",
            "96754ddec7e745759e6e593bdc87d160",
            "d6de787f3f5744be9be8ff8afc1a9f52",
            "a5f9934f362248e3a808706cb2c99c43",
            "31ffb2bc85d041a29266f31d64b71ade",
            "7cf24ae54e224058a02de4cd4193214d",
            "83d607db0b3e4c05a5661dc0b7376bbd",
            "54d60fa23c8d4913a7df722edfb79e8d",
            "1e0b65a63f664702bc6d3f91fc9df32b",
            "a8b8851fbaa849d98ad0ca0e902b1f47",
            "56fe1679045b4f01a57a90c61f9d1a11",
            "2ff4f59b1c334462916f7e985baeffa2",
            "f4423dee83fa4009a733cea6af07a101"
          ]
        }
      },
      "source": [
        "model_frenchName = 'Helsinki-NLP/opus-mt-fr-en'\n",
        "\n",
        "tokenizer_frenchOnly = MarianTokenizer.from_pretrained(model_frenchName)\n",
        "model_frenchOnly = MarianMTModel.from_pretrained(model_frenchName)"
      ],
      "execution_count": null,
      "outputs": [
        {
          "output_type": "display_data",
          "data": {
            "application/vnd.jupyter.widget-view+json": {
              "model_id": "0e103fc144614d60a4177d0eb2ff151a",
              "version_minor": 0,
              "version_major": 2
            },
            "text/plain": [
              "HBox(children=(FloatProgress(value=0.0, description='Downloading', max=1133.0, style=ProgressStyle(description…"
            ]
          },
          "metadata": {
            "tags": []
          }
        },
        {
          "output_type": "stream",
          "text": [
            "\n"
          ],
          "name": "stdout"
        },
        {
          "output_type": "display_data",
          "data": {
            "application/vnd.jupyter.widget-view+json": {
              "model_id": "7cf24ae54e224058a02de4cd4193214d",
              "version_minor": 0,
              "version_major": 2
            },
            "text/plain": [
              "HBox(children=(FloatProgress(value=0.0, description='Downloading', max=300827685.0, style=ProgressStyle(descri…"
            ]
          },
          "metadata": {
            "tags": []
          }
        },
        {
          "output_type": "stream",
          "text": [
            "\n"
          ],
          "name": "stdout"
        }
      ]
    },
    {
      "cell_type": "code",
      "metadata": {
        "id": "qZKy4YQmdBon"
      },
      "source": [
        "#Newspaper ID (Samples from elastic) - 47096a803891d9cac2089503a91cb29c, 75a0bf060c896395c1d2033e28c8dfbd"
      ],
      "execution_count": null,
      "outputs": []
    },
    {
      "cell_type": "code",
      "metadata": {
        "id": "XGzqtkIGcjOb"
      },
      "source": [
        "french_texts = [\"\"\"CONAKRY- Le sang continue de couler à Conakry en marge des violences post-électorales. Ce vendredi 23 octobre 2020, c’est une jeune fille âgée de moins de 20 ans qui a reçu une balle au niveau de la poitrine au quartier Hamdallaye. Elle a rendu l’âme quelques instants après. Selon nos informations, la jeune fille était sortie pour acheter du pain lorsqu’elle a reçu la balle qui lui a été fatale. Dans sa famille, c’est la colère et la consternation.\"\"\",\n",
        "                \"\"\"La directrice générale de la santé, Nabila Kadour, a déclaré ce vendredi 23 octobre 2020 que le nombre des personnes soignées et guéries de la Covid-19 dépasse le nombre de contaminations et ce pour la première fois depuis le mois de juin. Le nombre des cas actifs atteint 373 face à 392 cas de guérisons. La région de la Manouba a enregistré, selon la même source, 33 nouvelles guérisons et deux nouvelles contaminations à la Manouba et à Oued Ellil.\"\"\"]"
      ],
      "execution_count": null,
      "outputs": []
    },
    {
      "cell_type": "code",
      "metadata": {
        "id": "CuR7s2lI4g1f"
      },
      "source": [
        "translated_french = model_frenchOnly.generate(**tokenizer_frenchOnly.prepare_seq2seq_batch(french_texts))\n"
      ],
      "execution_count": null,
      "outputs": []
    },
    {
      "cell_type": "code",
      "metadata": {
        "id": "b_KiFoV0cV8g",
        "outputId": "74ef5a46-8fc9-4b8b-fddb-7179b169b34f",
        "colab": {
          "base_uri": "https://localhost:8080/",
          "height": 221
        }
      },
      "source": [
        "pprint.pprint([tokenizer_frenchOnly.decode(t, skip_special_tokens=True) for t in translated_french])"
      ],
      "execution_count": null,
      "outputs": [
        {
          "output_type": "stream",
          "text": [
            "['CONAKRY- Blood continues to flow in Conakry on the margins of post-election '\n",
            " 'violence. On Friday, October 23, 2020, a young girl under the age of 20 was '\n",
            " 'shot in the chest in the Hamdallaye district. She returned her soul a few '\n",
            " 'moments later. According to our information, the girl had gone out to buy '\n",
            " 'bread when she received the bullet that was fatal to her. In her family, it '\n",
            " 'is anger and consternation.',\n",
            " 'The Director General of Health, Nabila Kadour, said this Friday, October 23, '\n",
            " '2020 that the number of people treated and cured of the Covid-19 exceeds the '\n",
            " 'number of contaminations for the first time since June. The number of active '\n",
            " 'cases reached 373 compared to 392 cases of cures. According to the same '\n",
            " 'source, the Manouba region recorded 33 new cures and two new infections in '\n",
            " 'the Manouba and Oued Ellil.']\n"
          ],
          "name": "stdout"
        }
      ]
    },
    {
      "cell_type": "markdown",
      "metadata": {
        "id": "SdbYp0N5cNiE"
      },
      "source": [
        "##Spanish To English Only "
      ]
    },
    {
      "cell_type": "code",
      "metadata": {
        "id": "EE4Gne9TcMkc"
      },
      "source": [
        "model_spanishName = 'Helsinki-NLP/opus-mt-es-en'\n",
        "\n",
        "tokenizer_spanishOnly = MarianTokenizer.from_pretrained(model_spanishName)\n",
        "model_spanishOnly = MarianMTModel.from_pretrained(model_spanishName)\n"
      ],
      "execution_count": 103,
      "outputs": []
    },
    {
      "cell_type": "code",
      "metadata": {
        "id": "ZRxAZ66Le4qR"
      },
      "source": [
        "#Newspaper ID (Samples from elastic) - fdd25bff38ccca9d8628f2aedaeaa6b6, 069f2c5179513c17f6195e9ead0f1c3c"
      ],
      "execution_count": null,
      "outputs": []
    },
    {
      "cell_type": "code",
      "metadata": {
        "id": "tmJg_k20eE71"
      },
      "source": [
        "spanish_texts= [\"\"\"Cuatro cárteles habrían aumentado sus relaciones con el narco en Colombia\"\"\",\n",
        "                \"\"\"Los diversos grupos han invadido la mayor parte del país y se mantienen en una batalla constante por el control territorial. Ahora se ha dado a conocer que los narcotraficantes mexicanos habrían comenzado a establecer relación con los cárteles colombianos. Las organizaciones con mayor fuerza son el CJNG y el Cártel de Sinaloa, los cuales cuentan con una presencia más fuerte en territorio nacional. Por otro lado, la Fiscalía General de la República (FGR) tiene contemplados en México 9 cárteles y 36 células delictivas que operan en territorio mexicano. Siendo Colima, Baja California, Zacatecas, Quintana Roo, y Guanajuato, las entidades con alerta roja por los delitos del crimen organizado.\"\"\",\n",
        "                \"\"\"Minvu entrega recomendaciones para el uso del espacio público en recintos de votacionesUna guía didáctica con datos útiles desde el punto de vista de desplazamiento y de autocuidado frente al Covid 19, entregó a la comunidad el Ministerio de Vivienda y Urbanismo. El material, que está disponible en https://www.minvu.cl/beneficio/ciudad/protocolo-y-guias-minvu/, entrega recomendaciones técnicas para la disposición de filas externas de espera , señalética y distancia segura. “Este es un aporte del Minvu para todo el proceso de nuestro país vivirá este domingo 25 de octubre. “En el Minvu tenemos la tarea de rediseñar las ciudades, y en este minuto la convivencia y desplazamiento en espacios públicos será un factor clave para enfrentar los efectos del Covid-19. Debemos remarcar que es obligatorio el distanciamiento físico exigido y cumplir con la normativa sanitaria y la invitación para el próximo Plebiscito es a respetar las filas de “Votante” y “Votante preferente””, concluyó la seremi (S) del Minvu.\"\"\",\n",
        "                ]"
      ],
      "execution_count": 104,
      "outputs": []
    },
    {
      "cell_type": "code",
      "metadata": {
        "id": "yNW50_wocSEz",
        "outputId": "82d80fef-d448-4585-b163-18584095fdfc",
        "colab": {
          "base_uri": "https://localhost:8080/",
          "height": 34
        }
      },
      "source": [
        "start = timer()\n",
        "translated_spanish = model_spanishOnly.generate(**tokenizer_spanishOnly.prepare_seq2seq_batch(spanish_texts))\n",
        "end = timer()\n",
        "print(\"Translation time in Seconds:\", end - start) \n"
      ],
      "execution_count": 105,
      "outputs": [
        {
          "output_type": "stream",
          "text": [
            "Translation time in Seconds: 28.766572442000324\n"
          ],
          "name": "stdout"
        }
      ]
    },
    {
      "cell_type": "code",
      "metadata": {
        "id": "-wZqziCgewDd",
        "outputId": "8e20bd2b-9265-48da-c462-82d9c34b6be5",
        "colab": {
          "base_uri": "https://localhost:8080/",
          "height": 442
        }
      },
      "source": [
        "pprint.pprint([tokenizer_spanishOnly.decode(t, skip_special_tokens=True) for t in translated_spanish])"
      ],
      "execution_count": null,
      "outputs": [
        {
          "output_type": "stream",
          "text": [
            "['Four cartels reportedly increased their relations with drug traffickers in '\n",
            " 'Colombia',\n",
            " 'The various groups have invaded most of the country and remain in a constant '\n",
            " 'battle for territorial control. It has now been reported that Mexican drug '\n",
            " 'traffickers have begun to establish links with Colombian cartels. The '\n",
            " 'organizations with the greatest force are the CJNG and the Sinaloa Cartel, '\n",
            " 'which have a stronger presence in the national territory. On the other hand, '\n",
            " 'the Attorney General’s Office (FGR) has nine cartels and 36 criminal cells '\n",
            " 'operating in Mexico. Colima, Baja California, Zacatecas, Quintana Roo, and '\n",
            " 'Guanajuato, the entities with red alert for organized crime crimes, are in '\n",
            " 'Mexico.',\n",
            " 'Minvu delivers recommendations for the use of public space in polling '\n",
            " 'stationsA didactic guide with useful data from the point of view of '\n",
            " 'displacement and self-care in front of Covid 19, handed over to the '\n",
            " 'community the Ministry of Housing and Urbanism. The material, which is '\n",
            " 'available at https://www.minvu.cl/benefit/city/protocolo-y-guias-minvu/, '\n",
            " 'provides technical recommendations for the arrangement of external waiting '\n",
            " 'lines, signboarding and safe distance. \"This is a contribution of Minvu for '\n",
            " 'the entire process of our country will live on Sunday, October 25. \"In the '\n",
            " 'Minvu we have the task of redesigning cities, and in this minute the '\n",
            " 'coexistence and displacement in public spaces will be a key factor to '\n",
            " 'confront the effects of Covid-19. We must point out that the required '\n",
            " 'physical distance and comply with the health regulations and the invitation '\n",
            " 'for the next Plebiscite is to respect the ranks of \"Vonant\" and '\n",
            " '\"Preferential Voter\" concluded the Minvu seremi (S).']\n"
          ],
          "name": "stdout"
        }
      ]
    }
  ]
}